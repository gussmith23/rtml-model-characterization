{
 "cells": [
  {
   "cell_type": "code",
   "execution_count": null,
   "metadata": {},
   "outputs": [],
   "source": [
    "import tvm\n",
    "from tvm import relay\n",
    "from tvm.relay import analysis_tools\n",
    "import pandas as pd\n",
    "from tvm.relay.testing import mlp\n",
    "from tvm.relay.testing import resnet\n",
    "from tvm.relay.testing import dqn\n",
    "from tvm.relay.testing import dcgan\n",
    "from tvm.relay.testing import mobilenet\n",
    "from tvm.relay.testing import lstm\n",
    "from tvm.relay.testing import inception_v3\n",
    "from tvm.relay.testing import squeezenet\n",
    "from tvm.relay.testing import vgg\n",
    "from tvm.relay.testing import densenet"
   ]
  },
  {
   "cell_type": "code",
   "execution_count": null,
   "metadata": {},
   "outputs": [],
   "source": [
    "class GetReadableName(analysis_tools.AnalysisPass):\n",
    "    def visit_call(self, call):\n",
    "        super().visit_call(call)\n",
    "        self._add_detail(call, readable_name=call.op.name)"
   ]
  },
  {
   "cell_type": "code",
   "execution_count": null,
   "metadata": {},
   "outputs": [],
   "source": [
    "class GetIndex(analysis_tools.AnalysisPass):\n",
    "    def __init__(self):\n",
    "        super().__init__()\n",
    "        self.__id = 0\n",
    "\n",
    "    def visit_call(self, call):\n",
    "        super().visit_call(call)\n",
    "        self._add_detail(call, id=self.__id)\n",
    "        self.__id += 1"
   ]
  },
  {
   "cell_type": "code",
   "execution_count": null,
   "metadata": {},
   "outputs": [],
   "source": [
    "class SummarizeOpTypes(relay.analysis_tools.AnalysisPass):\n",
    "    def _summarize(self):\n",
    "        histogram = {}\n",
    "        for node, data in self._existing_data.items():\n",
    "            if data['readable_name'] not in histogram:\n",
    "                histogram[data['readable_name']] = 1\n",
    "            else:\n",
    "                histogram[data['readable_name']] += 1\n",
    "        self._add_summary(histogram)"
   ]
  },
  {
   "cell_type": "code",
   "execution_count": null,
   "metadata": {},
   "outputs": [],
   "source": [
    "class OutputShape(relay.analysis_tools.AnalysisPass):\n",
    "    def __init__(self):\n",
    "        super().__init__()\n",
    "\n",
    "    def visit_call(self, call):\n",
    "        t = call.checked_type\n",
    "        self._add_detail(call, shape=t.shape)"
   ]
  },
  {
   "cell_type": "code",
   "execution_count": null,
   "metadata": {},
   "outputs": [],
   "source": [
    "summaries = {}\n",
    "results = {}\n",
    "summary_columns = set()\n",
    "for (module, _), name in [\n",
    "    (resnet.get_workload(num_layers=18), 'resnet18'),\n",
    "    (resnet.get_workload(num_layers=50), 'resnet50'),\n",
    "    (mobilenet.get_workload(), 'mobilenet'),\n",
    "    (mlp.get_workload(batch_size=1), 'mlp'),\n",
    "    (dqn.get_workload(batch_size=1), 'dqn'),\n",
    "    (dcgan.get_workload(batch_size=1), 'dcgan'),\n",
    "        # LSTM throws an error w/ analysis framework\n",
    "        #    (lstm.get_workload(iterations=32, num_hidden=32), 'lstm'),\n",
    "    (inception_v3.get_workload(), 'inception_v3'),\n",
    "    (squeezenet.get_workload(), 'squeezenet'),\n",
    "    (vgg.get_workload(batch_size=1), 'vgg'),\n",
    "    (densenet.get_workload(), 'densenet'),\n",
    "]:\n",
    "    program = module['main']\n",
    "    analyses = [GetReadableName(), GetIndex(),\n",
    "                SummarizeOpTypes(), OutputShape()]\n",
    "    results, summary_results = relay.analysis_tools.run_analyses(\n",
    "        program, analyses)\n",
    "    summary_columns.update(\n",
    "        relay.analysis_tools.get_summary_columns(summary_results))\n",
    "    summaries[name] = summary_results\n",
    "    results[name] = results\n",
    "\n",
    "summary_columns_ordered = (sorted(list(summary_columns)))\n",
    "summary_column_names = list(map(lambda t: t[0], summary_columns_ordered))\n",
    "summary_records = list(\n",
    "    map(\n",
    "        lambda t: (t[0], ) + analysis_tools.summary_to_record(\n",
    "            summary_columns_ordered, t[1]), summaries.items()))\n",
    "\n",
    "models_and_operators = pd.DataFrame.from_records(summary_records,\n",
    "                                                 columns=['model'] +\n",
    "                                                 summary_column_names,\n",
    "                                                 index='model')"
   ]
  },
  {
   "cell_type": "code",
   "execution_count": null,
   "metadata": {},
   "outputs": [],
   "source": [
    "print(models_and_operators.to_csv())"
   ]
  }
 ],
 "metadata": {
  "kernelspec": {
   "display_name": "Python 3",
   "language": "python",
   "name": "python3"
  },
  "language_info": {
   "codemirror_mode": {
    "name": "ipython",
    "version": 3
   },
   "file_extension": ".py",
   "mimetype": "text/x-python",
   "name": "python",
   "nbconvert_exporter": "python",
   "pygments_lexer": "ipython3",
   "version": "3.7.4"
  }
 },
 "nbformat": 4,
 "nbformat_minor": 2
}
